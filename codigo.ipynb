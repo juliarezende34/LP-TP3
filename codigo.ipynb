{
 "cells": [
  {
   "cell_type": "code",
   "execution_count": 32,
   "metadata": {},
   "outputs": [
    {
     "data": {
      "text/plain": [
       "27"
      ]
     },
     "execution_count": 32,
     "metadata": {},
     "output_type": "execute_result"
    }
   ],
   "source": [
    "#1\n",
    "def potencia(a,b):\n",
    "    if b==1:\n",
    "        return a\n",
    "    return a * potencia(a,b-1)\n",
    "    \n",
    "potencia(3,3)"
   ]
  },
  {
   "cell_type": "code",
   "execution_count": 33,
   "metadata": {},
   "outputs": [
    {
     "data": {
      "text/plain": [
       "16"
      ]
     },
     "execution_count": 33,
     "metadata": {},
     "output_type": "execute_result"
    }
   ],
   "source": [
    "#2\n",
    "def somaImpares(lista):\n",
    "    if not lista:\n",
    "        return 0\n",
    "    if lista[0] % 2 == 1:\n",
    "            return lista[0] + somaImpares(lista[1:])\n",
    "    else:\n",
    "        return somaImpares(lista[1:])\n",
    "\n",
    "    \n",
    "#O operados lista[1:] no parâmetro passa toda a lista, exceto o elemento de índice 0\n",
    "#A cada \"novo primeiro\", se ele for ímpar, faz a adição\n",
    "\n",
    "somaImpares([1,3,2,7,4,6,5])\n"
   ]
  },
  {
   "cell_type": "code",
   "execution_count": 34,
   "metadata": {},
   "outputs": [
    {
     "data": {
      "text/plain": [
       "[0, 2, 0, 3, 0]"
      ]
     },
     "execution_count": 34,
     "metadata": {},
     "output_type": "execute_result"
    }
   ],
   "source": [
    "#3\n",
    "def substituir(lista, a, b):\n",
    "    if not lista:\n",
    "        return []\n",
    "    if lista[0] == a:\n",
    "        lista[0] = b\n",
    "        return [lista[0]]+substituir(lista[1:], a, b)\n",
    "    else:\n",
    "        return [lista[0]]+substituir(lista[1:], a, b)\n",
    "    \n",
    "substituir([1,2,1,3,1], 1, 0)"
   ]
  },
  {
   "cell_type": "code",
   "execution_count": 35,
   "metadata": {},
   "outputs": [
    {
     "data": {
      "text/plain": [
       "True"
      ]
     },
     "execution_count": 35,
     "metadata": {},
     "output_type": "execute_result"
    }
   ],
   "source": [
    "#4\n",
    "def primo(numero, i=2):\n",
    "    if numero <= 1:\n",
    "        return False\n",
    "    elif numero == i:\n",
    "        return True\n",
    "    elif (numero % i) == 0:\n",
    "        return False    \n",
    "    else: \n",
    "        return primo(numero, i + 1)\n",
    "\n",
    "# se numero % i vem antes de numero == i, o i chega em 17 e retorna falso incorretamente\n",
    "primo(17)\n"
   ]
  },
  {
   "cell_type": "code",
   "execution_count": 36,
   "metadata": {},
   "outputs": [
    {
     "data": {
      "text/plain": [
       "[1, 0, 1, 0, 0]"
      ]
     },
     "execution_count": 36,
     "metadata": {},
     "output_type": "execute_result"
    }
   ],
   "source": [
    "#5\n",
    "def binario(numero):\n",
    "    if numero == 0:\n",
    "       return [0]\n",
    "    else:\n",
    "        resultado = binario(numero // 2) + [numero % 2]\n",
    "        # Remover o zero à esquerda, se presente\n",
    "        if resultado[0] == 0:\n",
    "            resultado = resultado[1:]\n",
    "        return resultado\n",
    "    \n",
    "# // -> divisão inteira\n",
    "binario(20)\n"
   ]
  },
  {
   "cell_type": "code",
   "execution_count": 37,
   "metadata": {},
   "outputs": [
    {
     "name": "stdout",
     "output_type": "stream",
     "text": [
      "28  é perfeito.\n"
     ]
    }
   ],
   "source": [
    "#6\n",
    "def laço(i, num, sum):\n",
    "   \n",
    "    if i == num:\n",
    "        \n",
    "        if(sum == num):\n",
    "           return print(num, \" é perfeito.\")\n",
    "            \n",
    "        else:\n",
    "           return print(num, \" não é perfeito.\")\n",
    "\n",
    "    if((num % i) == 0): #significa  que é divisor\n",
    "        return laço(i+1, num, sum+i)\n",
    "    else:\n",
    "        return laço(i+1, num, sum)\n",
    "    \n",
    "laço(1, 28, 0)"
   ]
  },
  {
   "cell_type": "code",
   "execution_count": 38,
   "metadata": {},
   "outputs": [
    {
     "name": "stdout",
     "output_type": "stream",
     "text": [
      "False\n"
     ]
    }
   ],
   "source": [
    "#7\n",
    "def distintos(i, j, lista):\n",
    "    \n",
    "    if i == len(lista): #terminou a lista\n",
    "        return True\n",
    "    \n",
    "    if j == len(lista): #terminou de comparar com todos\n",
    "        return distintos(i + 1, 0, lista)\n",
    "    \n",
    "    if i != j and lista[i] == lista[j]: #compara todos com todo\n",
    "        return False\n",
    "    \n",
    "    return distintos(i, j + 1, lista)\n",
    "\n",
    "lista = [1, 2, 4, 2, 5]\n",
    "print(distintos(0, 0, lista))"
   ]
  },
  {
   "cell_type": "code",
   "execution_count": 39,
   "metadata": {},
   "outputs": [
    {
     "name": "stdout",
     "output_type": "stream",
     "text": [
      "True\n"
     ]
    }
   ],
   "source": [
    "#8\n",
    "def diferentes(i, j, a, b):\n",
    "    \n",
    "    if i == len(a): #terminou a lista\n",
    "        return True\n",
    "    \n",
    "    if j == len(b): #terminou de comparar com a outra\n",
    "        return diferentes(i + 1, 0, a, b)\n",
    "    \n",
    "    if i != j and a[i] == b[j]: #compara todos com todos\n",
    "        return False\n",
    "    \n",
    "    return diferentes(i, j + 1, a, b)\n",
    "\n",
    "a = [1, 2, 3]\n",
    "b = [4, 5, 6]\n",
    "\n",
    "print(diferentes(0, 0, a, b))"
   ]
  },
  {
   "cell_type": "code",
   "execution_count": 40,
   "metadata": {},
   "outputs": [
    {
     "name": "stdout",
     "output_type": "stream",
     "text": [
      "É palíndromo\n"
     ]
    }
   ],
   "source": [
    "#9\n",
    "def palindromo(i, j, c):\n",
    "    \n",
    "    if i >= j:  # Chegou ao final ou ultrapassou o final da lista\n",
    "        return print(\"É palíndromo\")\n",
    "    \n",
    "    if c[i] == c[j - 1]:  # Compara os elementos opostos\n",
    "        return palindromo(i + 1, j - 1, c)\n",
    "    \n",
    "    else:\n",
    "        return print(\"Não é palíndromo\")\n",
    "\n",
    "c = [1, 2, 3, 2, 1]\n",
    "\n",
    "palindromo(0, len(c), c)"
   ]
  },
  {
   "cell_type": "code",
   "execution_count": 41,
   "metadata": {},
   "outputs": [
    {
     "name": "stdout",
     "output_type": "stream",
     "text": [
      "[1, 3, 6, 10]\n"
     ]
    }
   ],
   "source": [
    "#10\n",
    "def parcial(i, d):\n",
    "    \n",
    "    if(i == len(d)):\n",
    "        return print(d)\n",
    "        \n",
    "    else:\n",
    "        d[i] = d[i] + d[i-1]\n",
    "        return parcial(i+1, d)\n",
    "    \n",
    "d = [1, 2, 3, 4]\n",
    "#d = [12, 13, 14]\n",
    "parcial(1, d)"
   ]
  },
  {
   "cell_type": "code",
   "execution_count": 42,
   "metadata": {},
   "outputs": [
    {
     "name": "stdout",
     "output_type": "stream",
     "text": [
      "[1, 2, 5, 0, 4, 2]\n"
     ]
    }
   ],
   "source": [
    "#11\n",
    "def linearizar(lista):\n",
    "    return ([] if not lista else (lista[0] + linearizar(lista[1:]) if isinstance(lista[0], list) else [lista[0]] + linearizar(lista[1:])))\n",
    "\n",
    "print (linearizar([[1, 2], [5], [0, 4, 2]]))"
   ]
  },
  {
   "cell_type": "code",
   "execution_count": 43,
   "metadata": {},
   "outputs": [
    {
     "name": "stdout",
     "output_type": "stream",
     "text": [
      "[7, 3, 4, 1, 1, 5, 6]\n"
     ]
    }
   ],
   "source": [
    "#12\n",
    "def shift(k, lista):\n",
    "    return (lista[k:] + lista[:k]) if k > 0 else lista\n",
    "\n",
    "print(shift(3, [1, 5, 6, 7, 3, 4, 1]))"
   ]
  },
  {
   "cell_type": "code",
   "execution_count": 44,
   "metadata": {},
   "outputs": [
    {
     "name": "stdout",
     "output_type": "stream",
     "text": [
      "[1, 2, 3, 4]\n"
     ]
    }
   ],
   "source": [
    "#13\n",
    "def removerFim(n, lista):\n",
    "    return lista[:-n] if n > 0 else lista\n",
    "\n",
    "print (removerFim(2, [1, 2, 3, 4, 5, 6]))"
   ]
  },
  {
   "cell_type": "code",
   "execution_count": 47,
   "metadata": {},
   "outputs": [
    {
     "name": "stdout",
     "output_type": "stream",
     "text": [
      "[1, 2, 5, 7, 9, 10, 20, 25]\n",
      "[1, 2, 3, 7, 9, 20, 29, 55]\n"
     ]
    }
   ],
   "source": [
    "#14\n",
    "def intercalar(lista1, lista2):\n",
    "    if not lista1:\n",
    "        return lista2\n",
    "    elif not lista2:\n",
    "        return lista1\n",
    "    elif lista1[0] <= lista2[0]:\n",
    "        return [lista1[0]] + intercalar(lista1[1:], lista2)\n",
    "    else:\n",
    "        return [lista2[0]] + intercalar(lista1, lista2[1:])\n",
    "\n",
    "print(intercalar([1,5,10],[2,7,9,20,25]))\n"
   ]
  },
  {
   "cell_type": "code",
   "execution_count": 46,
   "metadata": {},
   "outputs": [
    {
     "name": "stdout",
     "output_type": "stream",
     "text": [
      "[1, 1, 10, 50, 100]\n"
     ]
    }
   ],
   "source": [
    "#15\n",
    "def trocar(valor, cedulas_disponiveis=[100, 50, 10, 5, 1]):\n",
    "    if valor == 0:\n",
    "        return []\n",
    "    else:\n",
    "        cedula = next(x for x in cedulas_disponiveis if x <= valor)\n",
    "        return trocar(valor - cedula, cedulas_disponiveis) + [cedula]\n",
    "\n",
    "print(trocar(162))"
   ]
  }
 ],
 "metadata": {
  "kernelspec": {
   "display_name": "Python 3",
   "language": "python",
   "name": "python3"
  },
  "language_info": {
   "codemirror_mode": {
    "name": "ipython",
    "version": 3
   },
   "file_extension": ".py",
   "mimetype": "text/x-python",
   "name": "python",
   "nbconvert_exporter": "python",
   "pygments_lexer": "ipython3",
   "version": "3.11.2"
  }
 },
 "nbformat": 4,
 "nbformat_minor": 2
}
